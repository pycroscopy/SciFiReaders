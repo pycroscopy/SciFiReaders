{
 "cells": [
  {
   "cell_type": "markdown",
   "metadata": {},
   "source": [
    "# Reading a DM3 File with ScopeReader\n",
    "\n",
    "**Gerd Duscher**\n",
    "\n",
    "10/09/2020\n",
    "\n",
    "**This document is a simple example of how to read DM3 Files into the sidpy dataformat**\n",
    "\n",
    "**UNDER CONSTRUCTION**"
   ]
  },
  {
   "cell_type": "markdown",
   "metadata": {},
   "source": [
    "## Introduction\n",
    "\n",
    "Digital Micrograph from Gatan runs on many TEMs for data acquisition.\n",
    "We read and plot such files here.\n",
    "\n",
    "## Import all necessary packages\n",
    "\n",
    "There are a few setup procedures that need to be followed before any code is written. In this step, we simply load a\n",
    "few python packages that will be necessary in the later steps.\n"
   ]
  },
  {
   "cell_type": "code",
   "execution_count": 2,
   "metadata": {},
   "outputs": [
    {
     "name": "stdout",
     "output_type": "stream",
     "text": [
      "SciFiReaders version:  0.0.11\n",
      "sidpy version:  0.12.1\n"
     ]
    }
   ],
   "source": [
    "%matplotlib widget\n",
    "import matplotlib.pylab as plt\n",
    "import numpy as np\n",
    "\n",
    "import sys\n",
    "from sidpy.io.interface_utils import open_file_dialog\n",
    "sys.path.insert(0,'../../')\n",
    "from SciFiReaders import DM3Reader\n",
    "import SciFiReaders\n",
    "print('SciFiReaders version: ', SciFiReaders.__version__)\n",
    "import sidpy\n",
    "print('sidpy version: ', sidpy.__version__)"
   ]
  },
  {
   "cell_type": "markdown",
   "metadata": {},
   "source": [
    "## Open a file dialog\n",
    "\n",
    "Here we select the name of the file to open. We will be using the sidpy interface to do that.\n",
    "\n",
    "The ``openfile_dialog`` will open QT file dialog to select a file.\n",
    "\n",
    "For examples go to the ``example_data`` directory in the original folder of this notebook.\n",
    "\n",
    "Note.: in some operating systems the window will not show up on top, look in your task bar."
   ]
  },
  {
   "cell_type": "code",
   "execution_count": 2,
   "metadata": {},
   "outputs": [
    {
     "ename": "",
     "evalue": "",
     "output_type": "error",
     "traceback": [
      "\u001b[1;31mCannot execute code, session has been disposed. Please try restarting the Kernel."
     ]
    },
    {
     "ename": "",
     "evalue": "",
     "output_type": "error",
     "traceback": [
      "\u001b[1;31mThe Kernel crashed while executing code in the the current cell or a previous cell. Please review the code in the cell(s) to identify a possible cause of the failure. Click <a href='https://aka.ms/vscodeJupyterKernelCrash'>here</a> for more info. View Jupyter <a href='command:jupyter.viewOutput'>log</a> for further details."
     ]
    }
   ],
   "source": [
    "%gui qt5"
   ]
  },
  {
   "cell_type": "code",
   "execution_count": 3,
   "metadata": {},
   "outputs": [
    {
     "data": {
      "application/vnd.jupyter.widget-view+json": {
       "model_id": "12ab39daffc341bc9d0520252067626e",
       "version_major": 2,
       "version_minor": 0
      },
      "text/plain": [
       "Select(description='Select file:', layout=Layout(width='70%'), options=('.',), rows=10, value='.')"
      ]
     },
     "metadata": {},
     "output_type": "display_data"
    }
   ],
   "source": [
    "\n",
    "file_list = open_file_dialog()"
   ]
  },
  {
   "cell_type": "code",
   "execution_count": 13,
   "metadata": {},
   "outputs": [
    {
     "data": {
      "application/vnd.jupyter.widget-view+json": {
       "model_id": "8379a057d4dc4d068a522b977ce0ba35",
       "version_major": 2,
       "version_minor": 0
      },
      "text/plain": [
       "Select(description='Select file:', layout=Layout(width='70%'), options=('.',), rows=10, value='.')"
      ]
     },
     "metadata": {},
     "output_type": "display_data"
    }
   ],
   "source": [
    "FileList = open_file_dialog()"
   ]
  },
  {
   "cell_type": "code",
   "execution_count": 17,
   "metadata": {},
   "outputs": [
    {
     "data": {
      "text/plain": [
       "'c:\\\\Users\\\\gduscher\\\\Documents\\\\Github\\\\SciFiReaders\\\\notebooks\\\\01_using_readers\\\\example_data\\\\EELS_STO.dm3'"
      ]
     },
     "execution_count": 17,
     "metadata": {},
     "output_type": "execute_result"
    }
   ],
   "source": [
    "file_list.file_name\n"
   ]
  },
  {
   "cell_type": "markdown",
   "metadata": {},
   "source": [
    "###  Catch a bad selection or cancelling of file selection"
   ]
  },
  {
   "cell_type": "code",
   "execution_count": 3,
   "metadata": {},
   "outputs": [],
   "source": [
    "\n",
    "\n",
    "if len(file_list.file_name) < 3 or file_list.file_name[-4:] != '.dm3':\n",
    "    print('File not supported')"
   ]
  },
  {
   "cell_type": "code",
   "execution_count": 4,
   "metadata": {},
   "outputs": [
    {
     "data": {
      "text/plain": [
       "'c:\\\\Users\\\\gduscher\\\\Documents\\\\2023-Experiments\\\\09222023eels\\\\gr_LL_0.dm4'"
      ]
     },
     "execution_count": 4,
     "metadata": {},
     "output_type": "execute_result"
    }
   ],
   "source": [
    "file_list.file_name"
   ]
  },
  {
   "cell_type": "markdown",
   "metadata": {},
   "source": [
    "## Read file\n",
    "We use the ScopeReader to read the file into a sidpy dataset.\n",
    "All metadata (absolutely everything) is saved in the ``original_metadata`` attribute\n",
    "of the sidpy Dataset. If the selected file is not a dm3 File you get an ``IOError``."
   ]
  },
  {
   "cell_type": "code",
   "execution_count": 5,
   "metadata": {},
   "outputs": [
    {
     "name": "stdout",
     "output_type": "stream",
     "text": [
      "0 1\n",
      "1 1\n",
      "Channel_000 sidpy.Dataset of type SPECTRUM with:\n",
      " dask.array<array, shape=(2048,), dtype=float32, chunksize=(2048,), chunktype=numpy.ndarray>\n",
      " data contains: intensity (counts)\n",
      " and Dimensions: \n",
      "energy_loss:  energy-loss (eV) of size (2048,)\n",
      " with metadata: ['experiment']\n",
      "Channel_000\n"
     ]
    },
    {
     "data": {
      "text/plain": [
       "{'Channel_000': sidpy.Dataset of type SPECTRUM with:\n",
       "  dask.array<array, shape=(2048,), dtype=float32, chunksize=(2048,), chunktype=numpy.ndarray>\n",
       "  data contains: intensity (counts)\n",
       "  and Dimensions: \n",
       " energy_loss:  energy-loss (eV) of size (2048,)\n",
       "  with metadata: ['experiment']}"
      ]
     },
     "execution_count": 5,
     "metadata": {},
     "output_type": "execute_result"
    }
   ],
   "source": [
    "dm3_reader = DM3Reader(file_list.file_name)\n",
    "datasets = dm3_reader.read()\n",
    "datasets\n"
   ]
  },
  {
   "cell_type": "code",
   "execution_count": 7,
   "metadata": {},
   "outputs": [
    {
     "data": {
      "text/html": [
       "<table>\n",
       "    <tr>\n",
       "        <td>\n",
       "            <table style=\"border-collapse: collapse;\">\n",
       "                <thead>\n",
       "                    <tr>\n",
       "                        <td> </td>\n",
       "                        <th> Array </th>\n",
       "                        <th> Chunk </th>\n",
       "                    </tr>\n",
       "                </thead>\n",
       "                <tbody>\n",
       "                    \n",
       "                    <tr>\n",
       "                        <th> Bytes </th>\n",
       "                        <td> 8.00 kiB </td>\n",
       "                        <td> 8.00 kiB </td>\n",
       "                    </tr>\n",
       "                    \n",
       "                    <tr>\n",
       "                        <th> Shape </th>\n",
       "                        <td> (2048,) </td>\n",
       "                        <td> (2048,) </td>\n",
       "                    </tr>\n",
       "                    <tr>\n",
       "                        <th> Dask graph </th>\n",
       "                        <td colspan=\"2\"> 1 chunks in 1 graph layer </td>\n",
       "                    </tr>\n",
       "                    <tr>\n",
       "                        <th> Data type </th>\n",
       "                        <td colspan=\"2\"> float32 numpy.ndarray </td>\n",
       "                    </tr>\n",
       "                </tbody>\n",
       "            </table>\n",
       "        </td>\n",
       "        <td>\n",
       "        <svg width=\"170\" height=\"75\" style=\"stroke:rgb(0,0,0);stroke-width:1\" >\n",
       "\n",
       "  <!-- Horizontal lines -->\n",
       "  <line x1=\"0\" y1=\"0\" x2=\"120\" y2=\"0\" style=\"stroke-width:2\" />\n",
       "  <line x1=\"0\" y1=\"25\" x2=\"120\" y2=\"25\" style=\"stroke-width:2\" />\n",
       "\n",
       "  <!-- Vertical lines -->\n",
       "  <line x1=\"0\" y1=\"0\" x2=\"0\" y2=\"25\" style=\"stroke-width:2\" />\n",
       "  <line x1=\"120\" y1=\"0\" x2=\"120\" y2=\"25\" style=\"stroke-width:2\" />\n",
       "\n",
       "  <!-- Colored Rectangle -->\n",
       "  <polygon points=\"0.0,0.0 120.0,0.0 120.0,25.412616514582485 0.0,25.412616514582485\" style=\"fill:#ECB172A0;stroke-width:0\"/>\n",
       "\n",
       "  <!-- Text -->\n",
       "  <text x=\"60.000000\" y=\"45.412617\" font-size=\"1.0rem\" font-weight=\"100\" text-anchor=\"middle\" >2048</text>\n",
       "  <text x=\"140.000000\" y=\"12.706308\" font-size=\"1.0rem\" font-weight=\"100\" text-anchor=\"middle\" transform=\"rotate(0,140.000000,12.706308)\">1</text>\n",
       "</svg>\n",
       "        </td>\n",
       "    </tr>\n",
       "</table>"
      ],
      "text/plain": [
       "sidpy.Dataset of type SPECTRUM with:\n",
       " dask.array<array, shape=(2048,), dtype=float32, chunksize=(2048,), chunktype=numpy.ndarray>\n",
       " data contains: intensity (counts)\n",
       " and Dimensions: \n",
       "energy_loss:  energy-loss (eV) of size (2048,)\n",
       " with metadata: ['experiment']"
      ]
     },
     "execution_count": 7,
     "metadata": {},
     "output_type": "execute_result"
    }
   ],
   "source": [
    "dataset = datasets['Channel_000']\n",
    "dataset"
   ]
  },
  {
   "cell_type": "markdown",
   "metadata": {},
   "source": [
    "## Plot File\n",
    "Only one command is necessary to plot the file."
   ]
  },
  {
   "cell_type": "code",
   "execution_count": 41,
   "metadata": {},
   "outputs": [
    {
     "data": {
      "text/plain": [
       "''"
      ]
     },
     "execution_count": 41,
     "metadata": {},
     "output_type": "execute_result"
    }
   ],
   "source": [
    "FileWidget.file_name"
   ]
  },
  {
   "cell_type": "code",
   "execution_count": 8,
   "metadata": {},
   "outputs": [
    {
     "data": {
      "application/vnd.jupyter.widget-view+json": {
       "model_id": "241d9a283704499b894f22d80ce09bb7",
       "version_major": 2,
       "version_minor": 0
      },
      "image/png": "[encoded data removed]",
      "text/html": [
       "\n",
       "            <div style=\"display: inline-block;\">\n",
       "                <div class=\"jupyter-widgets widget-label\" style=\"text-align: center;\">\n",
       "                    Figure\n",
       "                </div>\n",
       "                <img src='data:image/png;base64,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' width=640.0/>\n",
       "            </div>\n",
       "        "
      ],
      "text/plain": [
       "Canvas(toolbar=Toolbar(toolitems=[('Home', 'Reset original view', 'home', 'home'), ('Back', 'Back to previous …"
      ]
     },
     "metadata": {},
     "output_type": "display_data"
    }
   ],
   "source": [
    "view = dataset.plot()"
   ]
  },
  {
   "cell_type": "markdown",
   "metadata": {},
   "source": [
    "## DM3 Original Metadata\n",
    "Digital micrograph stores a lot of metadata in the file and we read all of them and store that information in the ``original_metadata``. "
   ]
  },
  {
   "cell_type": "code",
   "execution_count": 13,
   "metadata": {
    "scrolled": true,
    "tags": [
     "outputPrepend"
    ]
   },
   "outputs": [
    {
     "name": "stdout",
     "output_type": "stream",
     "text": [
      "ImageData :\n",
      "\tCalibrations :\n",
      "\t\tBrightness :\n",
      "\t\t\tOrigin : 0.0\n",
      "\t\t\tScale : 1.0\n",
      "\t\t\tUnits : Counts\n",
      "\t\tDimension :\n",
      "\t\t\t0 :\n",
      "\t\t\t\tOrigin : -1400.0\n",
      "\t\t\t\tScale : 0.25\n",
      "\t\t\t\tUnits : eV\n",
      "\t\tDisplayCalibratedUnits : 1\n",
      "\tData : read\n",
      "\tDataType : 2\n",
      "\tDimensions :\n",
      "\t\t0 : 2048\n",
      "\tPixelDepth : 4\n",
      "ImageTags :\n",
      "\tAcquisition :\n",
      "\t\tDevice :\n",
      "\t\t\tActive Size (pixels) : [2048, 520]\n",
      "\t\t\tCamera Number : 0\n",
      "\t\t\tCCD :\n",
      "\t\t\t\tPixel Size (um) : [14.0, 14.0]\n",
      "\t\t\tConfiguration :\n",
      "\t\t\t\tTranspose :\n",
      "\t\t\t\t\tDiagonal Flip : 0\n",
      "\t\t\t\t\tHorizontal Flip : 0\n",
      "\t\t\t\t\tVertical Flip : 0\n",
      "\t\t\tName : QUEFINA 1\n",
      "\t\t\tSource : QUEFINA 1\n",
      "\t\tFrame :\n",
      "\t\t\tArea :\n",
      "\t\t\t\tTransform :\n",
      "\t\t\t\t\tClass Name : cm_acquisitiontransform_list\n",
      "\t\t\t\t\tTransform List :\n",
      "\t\t\t\t\t\t0 :\n",
      "\t\t\t\t\t\t\tBinning : [1, 130]\n",
      "\t\t\t\t\t\t\tClass Name : cm_acquisitiontransform\n",
      "\t\t\t\t\t\t\tSub Area Adjust : [0, 0, 0, 0]\n",
      "\t\t\t\t\t\t\tTranspose :\n",
      "\t\t\t\t\t\t\t\tDiagonal Flip : 0\n",
      "\t\t\t\t\t\t\t\tHorizontal Flip : 0\n",
      "\t\t\t\t\t\t\t\tVertical Flip : 0\n",
      "\t\t\tCCD :\n",
      "\t\t\t\tPixel Size (um) : [1820.0, 14.0]\n",
      "\t\t\tIntensity :\n",
      "\t\t\t\tTransform :\n",
      "\t\t\t\t\tClass Name : cm_valuetransform_list\n",
      "\t\t\t\t\tTransform List :\n",
      "\t\t\t\t\t\t0 :\n",
      "\t\t\t\t\t\t\tClass Name : cm_valuetransform_affine\n",
      "\t\t\t\t\t\t\tOffset : 250.0\n",
      "\t\t\t\t\t\t\tScale : 1.0\n",
      "\t\t\t\t\t\t1 :\n",
      "\t\t\t\t\t\t\tADC Max : 65535.0\n",
      "\t\t\t\t\t\t\tADC Min : 0.0\n",
      "\t\t\t\t\t\t\tClass Name : cm_valuetransform_adc\n",
      "\t\tParameters :\n",
      "\t\t\tAcquisition Write Flags : 4294967295\n",
      "\t\t\tBase Detector :\n",
      "\t\t\t\tClass Name : cm_namedcameradetectorparameterset\n",
      "\t\t\t\tName : default\n",
      "\t\t\tDetector :\n",
      "\t\t\t\tcontinuous : 1\n",
      "\t\t\t\texposure (s) : 2.0\n",
      "\t\t\t\thbin : 1\n",
      "\t\t\t\theight : 260\n",
      "\t\t\t\tleft : 0\n",
      "\t\t\t\ttop : 130\n",
      "\t\t\t\tvbin : 130\n",
      "\t\t\t\twidth : 2048\n",
      "\t\t\tEnvironment :\n",
      "\t\t\t\tMode Name : Spectroscopy\n",
      "\t\t\tHigh Level :\n",
      "\t\t\t\tAcquisition Buffer Size : 0\n",
      "\t\t\t\tAntiblooming : 0\n",
      "\t\t\t\tBinning : [1, 130]\n",
      "\t\t\t\tCCD Read Area : [130, 0, 390, 2048]\n",
      "\t\t\t\tCCD Read Ports : 1\n",
      "\t\t\t\tChoose Number Of Frame Shutters Automatically : 1\n",
      "\t\t\t\tClass Name : cm_camera_highlevelparameters\n",
      "\t\t\t\tContinuous Readout : 1\n",
      "\t\t\t\tCorrections : 305\n",
      "\t\t\t\tCorrections Mask : 817\n",
      "\t\t\t\tExposure (s) : 2.0\n",
      "\t\t\t\tNumber Of Frame Shutters : 1\n",
      "\t\t\t\tProcessing : Dark Subtracted\n",
      "\t\t\t\tQuality Level : 1\n",
      "\t\t\t\tRead Frame Style : 0\n",
      "\t\t\t\tRead Mode : 13\n",
      "\t\t\t\tSecondary Shutter Post Exposure Compensation (s) : 0.0\n",
      "\t\t\t\tSecondary Shutter Pre Exposure Compensation (s) : 0.0\n",
      "\t\t\t\tShutter :\n",
      "\t\t\t\t\tPrimary Shutter States : 0\n",
      "\t\t\t\t\tPrimary Shutter States Mask : 0\n",
      "\t\t\t\t\tSecondary Shutter States : 0\n",
      "\t\t\t\t\tSecondary Shutter States Mask : 0\n",
      "\t\t\t\t\tShutter Exposure : 0\n",
      "\t\t\t\t\tShutter Index : 0\n",
      "\t\t\t\tShutter Post Exposure Compensation (s) : 0.0\n",
      "\t\t\t\tShutter Pre Exposure Compensation (s) : 0.0\n",
      "\t\t\t\tTransform :\n",
      "\t\t\t\t\tDiagonal Flip : 0\n",
      "\t\t\t\t\tHorizontal Flip : 0\n",
      "\t\t\t\t\tVertical Flip : 0\n",
      "\t\t\tObjects :\n",
      "\t\t\t\t0 :\n",
      "\t\t\t\t\tClass Name : cm_imgproc_finalcombine\n",
      "\t\t\t\t\tFrame Combine Style : Copy\n",
      "\t\t\t\t\tParameter 1 : 1.0\n",
      "\t\t\tParameter Set Name : Acquire\n",
      "\t\t\tParameter Set Tag Path : Spectroscopy:Acquire:Acquire\n",
      "\t\t\tVersion : 33947648\n",
      "\tEELS :\n",
      "\t\tAcquisition :\n",
      "\t\t\tContinuous mode : 0\n",
      "\t\t\tDate : 12/14/2019\n",
      "\t\t\tEnd time : 1:31:04 PM\n",
      "\t\t\tExposure (s) : 2.0\n",
      "\t\t\tIntegration time (s) : 20.0\n",
      "\t\t\tNumber of frames : 10\n",
      "\t\t\tSaturation fraction : 0.21766255795955658\n",
      "\t\t\tStart time : 1:30:41 PM\n",
      "\t\tExperimental Conditions :\n",
      "\t\t\tCollection semi-angle (mrad) : 33.0\n",
      "\t\t\tConvergence semi-angle (mrad) : 30.0\n",
      "\tEELS Spectrometer :\n",
      "\t\tDispersion (eV/ch) : 0.25\n",
      "\t\tDispersion index : 4\n",
      "\t\tDrift tube enabled : 1\n",
      "\t\tDrift tube voltage (V) : 400.0\n",
      "\t\tEnergy loss (eV) : 400.0\n",
      "\t\tHT offset (V) : 0.0\n",
      "\t\tHT offset enabled : 0.0\n",
      "\t\tInstrument ID : 3977\n",
      "\t\tInstrument name : Enfinium ER NION\n",
      "\t\tMode : 0\n",
      "\t\tPrism offset (V) : -0.0\n",
      "\t\tPrism offset enabled  : 1\n",
      "\tMeta Data :\n",
      "\t\tAcquisition Mode : Parallel dispersive\n",
      "\t\tFormat : Spectrum\n",
      "\t\tSignal : EELS\n",
      "\tMicroscope Info :\n",
      "\t\tCs(mm) : 0.0\n",
      "\t\tEmission Current (A) : 0.0\n",
      "\t\tFormatted Indicated Mag : 100x\n",
      "\t\tFormatted Voltage : 200kV\n",
      "\t\tIllumination Mode : STEM\n",
      "\t\tImaging Mode : IMAGING\n",
      "\t\tIndicated Magnification : 100.0\n",
      "\t\tName : Unknown\n",
      "\t\tOperation Mode : SCANNING\n",
      "\t\tProbe Current (nA) : 0.0\n",
      "\t\tProbe Size (nm) : 0.0\n",
      "\t\tSTEM Camera Length : 2.8\n",
      "\t\tVoltage : 200000.0\n",
      "\tSession Info :\n",
      "\t\tItems :\n",
      "\t\t\t0 :\n",
      "\t\t\t\tData Type : 20\n",
      "\t\t\t\tLabel : Specimen\n",
      "\t\t\t\tPrecision : 0\n",
      "\t\t\t\tTag path : Session Info:Specimen\n",
      "\t\t\t\tUnits : \n",
      "\t\t\t\tValue : \n",
      "\t\t\t1 :\n",
      "\t\t\t\tData Type : 20\n",
      "\t\t\t\tLabel : Operator\n",
      "\t\t\t\tPrecision : 0\n",
      "\t\t\t\tTag path : Session Info:Operator\n",
      "\t\t\t\tUnits : \n",
      "\t\t\t\tValue : \n",
      "\t\t\t2 :\n",
      "\t\t\t\tData Type : 20\n",
      "\t\t\t\tLabel : Microscope\n",
      "\t\t\t\tPrecision : 0\n",
      "\t\t\t\tTag path : Session Info:Microscope\n",
      "\t\t\t\tUnits : \n",
      "\t\t\t\tValue : \n",
      "\t\tMicroscope : \n",
      "\t\tOperator : \n",
      "\t\tSpecimen : \n",
      "Name : 01-EELS Acquire_STO\n",
      "UniqueID :\n",
      "\t0 : 774116825\n",
      "\t1 : 412555428\n",
      "\t2 : 1897604613\n",
      "\t3 : 952377132\n",
      "DM :\n",
      "\tdm_version : 3\n",
      "\tfile_size : 322611\n",
      "\tfull_file_name : C:/Users/gduscher/Documents/Github/SciFiReaders/notebooks/01_using_readers/example_data/EELS_STO.dm3\n",
      "original_filename : C:/Users/gduscher/Documents/Github/SciFiReaders/notebooks/01_using_readers/example_data/EELS_STO.dm3\n",
      "ApplicationBounds : [0, 0, 1065, 1916]\n",
      "DocumentObjectList :\n",
      "\t0 :\n",
      "\t\tAnnotationGroupList :\n",
      "\t\tAnnotationType : 20\n",
      "\t\tBackgroundColor : [-1, -1, -1]\n",
      "\t\tBackgroundMode : 2\n",
      "\t\tFillMode : 2\n",
      "\t\tForegroundColor : [-1, 0, 0]\n",
      "\t\tHasBackground : 0\n",
      "\t\tImageDisplayInfo :\n",
      "\t\t\tBackgroundColor : [-5655, -5655, -5655]\n",
      "\t\t\tBackgroundOn : 1\n",
      "\t\t\tCalibrationSliceId :\n",
      "\t\t\t\t0 : 0\n",
      "\t\t\tCaptionAttributes : 7\n",
      "\t\t\tCaptionColor : [0, 0, 0]\n",
      "\t\t\tCaptionFaceName : Lucida Sans Unicode\n",
      "\t\t\tCaptionOn : 1\n",
      "\t\t\tCaptionSize : 10\n",
      "\t\t\tCursorOn : 0\n",
      "\t\t\tCursorPosition : 0.0\n",
      "\t\t\tDimensionLabels :\n",
      "\t\t\t\t0 : \n",
      "\t\t\tDynamicContrast : 1\n",
      "\t\t\tFrameOn : 1\n",
      "\t\t\tGridColor : [0, -1, -1]\n",
      "\t\t\tGridOn : 1\n",
      "\t\t\tGroupId : 0\n",
      "\t\t\tGroupList :\n",
      "\t\t\t\t0 :\n",
      "\t\t\t\t\tDoAutoSurveyHigh : 1\n",
      "\t\t\t\t\tDoAutoSurveyLow : 1\n",
      "\t\t\t\t\tGroupToDisplay :\n",
      "\t\t\t\t\t\tOffset : [-0.0, -0.0]\n",
      "\t\t\t\t\t\tScale : [0.00048828125, 4.16666489400086e-06]\n",
      "\t\t\t\t\tTrackStyleX : 0\n",
      "\t\t\t\t\tTrackStyleY : 0\n",
      "\t\t\tLegendOn : 0\n",
      "\t\t\tMainSliceId :\n",
      "\t\t\t\t0 : 0\n",
      "\t\t\tNumHorizontalTicks : 1\n",
      "\t\t\tNumVerticalTicks : 1\n",
      "\t\t\tSliceList :\n",
      "\t\t\t\t0 :\n",
      "\t\t\t\t\tBaseIntensity : 0.0\n",
      "\t\t\t\t\tComplexMode : 4\n",
      "\t\t\t\t\tDrawFill : 1\n",
      "\t\t\t\t\tDrawLine : 0\n",
      "\t\t\t\t\tDrawTransparent : 0\n",
      "\t\t\t\t\tFillColor : [23644, -16449, -16449]\n",
      "\t\t\t\t\tHorz Pos Fixed : 1\n",
      "\t\t\t\t\tHorz Scale Fixed : 1\n",
      "\t\t\t\t\tImageToGroup :\n",
      "\t\t\t\t\t\tOffset : [0.0, 0.0]\n",
      "\t\t\t\t\t\tScale : [1.0, 1.0]\n",
      "\t\t\t\t\tIsVisible : 1\n",
      "\t\t\t\t\tLineColor : [0, -32640, -16449]\n",
      "\t\t\t\t\tLineStyle : 0\n",
      "\t\t\t\t\tLineThickness : 1\n",
      "\t\t\t\t\tSliceGroup : 0\n",
      "\t\t\t\t\tSliceId :\n",
      "\t\t\t\t\t\t0 : 0\n",
      "\t\t\t\t\tTransparency : 0.0\n",
      "\t\t\t\t\tTransparencyStyle : 0\n",
      "\t\t\t\t\tVert Pos Fixed : 1\n",
      "\t\t\t\t\tVert Scale Fixed : 1\n",
      "\t\t\tSurveyRegion : 1\n",
      "\t\tImageDisplayType : 3\n",
      "\t\tImageSource : 0\n",
      "\t\tIsMoveable : 1\n",
      "\t\tIsResizable : 1\n",
      "\t\tIsSelectable : 1\n",
      "\t\tIsTranslatable : 1\n",
      "\t\tIsVisible : 1\n",
      "\t\tObjectTags :\n",
      "\t\tRectangle : [0.0, 0.0, 342.0, 669.0]\n",
      "\t\tUniqueID : 8\n",
      "DocumentTags :\n",
      "HasWindowPosition : 1\n",
      "Image Behavior :\n",
      "\tDoIntegralZoom : 0\n",
      "\tImageDisplayBounds : [0.0, 0.0, 342.0, 669.0]\n",
      "\tIsZoomedToWindow : 1\n",
      "\tUnscaledTransform :\n",
      "\t\tOffset : [0.0, 0.0]\n",
      "\t\tScale : [1.0, 1.0]\n",
      "\tViewDisplayID : 8\n",
      "\tWindowRect : [0.0, 0.0, 342.0, 669.0]\n",
      "\tZoomAndMoveTransform :\n",
      "\t\tOffset : [0.0, 0.0]\n",
      "\t\tScale : [1.0, 1.0]\n",
      "ImageSourceList :\n",
      "\t0 :\n",
      "\t\tClassName : ImageSource:Simple\n",
      "\t\tExtra Slice Info :\n",
      "\t\t\t0 :\n",
      "\t\t\t\tId :\n",
      "\t\t\t\t\t0 : 0\n",
      "\t\t\t\tLabel : Spectrum\n",
      "\t\tId :\n",
      "\t\t\t0 : 0\n",
      "\t\tImageRef : 1\n",
      "InImageMode : 1\n",
      "MinVersionList :\n",
      "\t0 :\n",
      "\t\tRequiredVersion : 50659328\n",
      "NextDocumentObjectID : 9\n",
      "Page Behavior :\n",
      "\tDoIntegralZoom : 0\n",
      "\tDrawMargins : 1\n",
      "\tDrawPaper : 1\n",
      "\tIsFixedInPageMode : 0\n",
      "\tIsZoomedToWindow : 1\n",
      "\tLayedOut : 0\n",
      "\tPageTransform :\n",
      "\t\tOffset : [0.0, 0.0]\n",
      "\t\tScale : [1.0, 1.0]\n",
      "\tRestoreImageDisplayBounds : [0.0, 0.0, 342.0, 669.5]\n",
      "\tRestoreImageDisplayID : 8\n",
      "\tTargetDisplayID : 4294967295\n",
      "PageSetup :\n",
      "\tGeneral : [1, 1000, 8500, 11000, 1000, 1000, -1000, -1000]\n",
      "\tWin32 : b'\\x04\\x00\\x00\\x004!\\x00\\x00\\xf8*\\x00\\x00M\\x01\\x00\\x00M\\x01\\x00\\x00\\xfa\\x00\\x00\\x00\\xfa\\x00\\x00\\x00\\xe8\\x03\\x00\\x00\\xe8\\x03\\x00\\x00\\xe8\\x03\\x00\\x00\\xe8\\x03\\x00\\x00\\x00\\x00\\x00\\x00\\x01\\x00\\x01\\x00\\x01\\x00\\x01\\x00\\x01\\x00\\x18\\x00'\n",
      "\tWin32_DevModeW : b'S\\x00e\\x00n\\x00d\\x00 \\x00T\\x00o\\x00 \\x00O\\x00n\\x00e\\x00N\\x00o\\x00t\\x00e\\x00 \\x002\\x000\\x001\\x000\\x00\\x00\\x00\\x00\\x00\\x00\\x00\\x00\\x00\\x00\\x00\\x00\\x00\\x00\\x00\\x00\\x00\\x00\\x00\\x00\\x00\\x00\\x00\\x00\\x00\\x01\\x04\\x00\\x06\\xdc\\x00\\x0c\\x03\\x03\\xff\\x00\\x00\\x01\\x00\\x01\\x00\\xea\\no\\x08d\\x00\\x01\\x00\\x0f\\x00X\\x02\\x02\\x00\\x01\\x00X\\x02\\x02\\x00\\x00\\x00L\\x00e\\x00t\\x00t\\x00e\\x00r\\x00\\x00\\x00\\x00\\x00\\x00\\x00\\x00\\x00\\x00\\x00\\x00\\x00\\x00\\x00\\x00\\x00\\x00\\x00\\x00\\x00\\x00\\x00\\x00\\x00\\x00\\x00\\x00\\x00\\x00\\x00\\x00\\x00\\x00\\x00\\x00\\x00\\x00\\x00\\x00\\x00\\x00\\x00\\x00\\x00\\x00\\x00\\x00\\x00\\x00\\x00\\x00\\x00\\x00\\x00\\x00\\x00\\x00\\x00\\x00\\x00\\x00\\x00\\x00\\x00\\x00\\x00\\x01\\x00\\x00\\x00\\x00\\x00\\x00\\x00\\x01\\x00\\x00\\x00\\x02\\x00\\x00\\x00\\x01\\x00\\x00\\x00\\xff\\xff\\xff\\xff\\x00\\x00\\x00\\x00\\x00\\x00\\x00\\x00\\x00\\x00\\x00\\x00\\x00\\x00\\x00\\x00DINU\"\\x00\\xd0\\x00\\x0c\\x03\\x00\\x00\\xc2\\xac\\x90Q\\x00\\x00\\x00\\x00\\x00\\x00\\x00\\x00\\x00\\x00\\x00\\x00\\x00\\x00\\x00\\x00\\x00\\x00\\x00\\x00\\x00\\x00\\x00\\x00\\x00\\x00\\x00\\x00\\x05\\x00\\x00\\x00\\x00\\x00\\x07\\x00\\x00\\x00\\x00\\x00\\x00\\x00\\x00\\x00\\x00\\x00\\x00\\x00\\x00\\x00\\x00\\x00\\x00\\x00\\x00\\x00\\x00\\x00\\x00\\x00\\x00\\x00\\x00\\x00\\x00\\x00\\x00\\x00\\x00\\x00\\x00\\x00\\x00\\x00\\x00\\x00\\x00\\x00\\x00\\x00\\x00\\x00\\x00\\x00\\x00\\x00\\x00\\x00\\x00\\x00\\x00\\x00\\x00\\x00\\x00\\x00\\x00\\x00\\x00\\x00\\x00\\x00\\x00\\x00\\x00\\x00\\x00\\x00\\x00\\x00\\x00\\x00\\x00\\x00\\x00\\x00\\x00\\x00\\x00\\x00\\x00\\x00\\x00\\x00\\x00\\x00\\x00\\x00\\x00\\x00\\x00\\x00\\x00\\x00\\x00\\x00\\x00\\x00\\x00\\x00\\x00\\x00\\x00\\x00\\x00\\x00\\x00\\x00\\x00\\x00\\x00\\x00\\x00\\x00\\x00\\x00\\x00\\x00\\x00\\x00\\x00\\x00\\x00\\x00\\x00\\x00\\x00\\x00\\x00\\x00\\x00\\x00\\x00\\x00\\x00\\x00\\x00\\x00\\x00\\x00\\x00\\x00\\x00\\x00\\x00\\x00\\x00\\x00\\x00\\x00\\x00\\x00\\x00\\x00\\x00\\x00\\x00\\x00\\x00\\x00\\x00\\x00\\x00\\x00\\x00\\x00\\x00\\x00\\x00\\x00\\x00\\x00\\x00\\x00\\x00\\x00\\x00\\x00\\x00\\x00\\x00\\x00\\x00\\x00\\x00\\x00\\x00\\x00\\x00\\x00\\x00\\x00\\x00\\x00\\x00\\x00\\x00\\x00\\x00\\x00\\x00\\x00\\x00\\x00\\x00\\x00\\x00\\x00\\x00\\x00\\x00\\x00\\x00\\x00\\x00\\x00\\x00\\x00\\x00\\x00\\x00\\x00\\x00\\x00\\x00\\x00\\x00\\x00\\x00\\x00\\x00\\x00\\x00\\x00\\x00\\x00\\x00\\x00\\x00\\x00\\x00\\x00\\x00\\x00\\x00\\x00\\x00\\x00\\x00\\x00\\x00\\x00\\x00\\x00\\x00\\x00\\x00\\x00\\x00\\x00\\x00\\x00\\x00\\x00\\x00\\x00\\x00\\x00\\x00\\x00\\x00\\x00\\x00\\x00\\x00\\x00\\x00\\x00\\x00\\x00\\x00\\x00\\x00\\x00\\x00\\x00\\x00\\x00\\x00\\x00\\x00\\x00\\x00\\x00\\x00\\x00\\x00\\x00\\x00\\x00\\x00\\x00\\x00\\x00\\x00\\x00\\x00\\x00\\x00\\x00\\x00\\x00\\x00\\x00\\x00\\x00\\x00\\x00\\x00\\x00\\x00\\x00\\x00\\x00\\x00\\x00\\x00\\x00\\x00\\x00\\x00\\x00\\x00\\x00\\x00\\x00\\x00\\x00\\x00\\x00\\x00\\x00\\x00\\x00\\x00\\x00\\x00\\x00\\x00\\x00\\x00\\x00\\x00\\x00\\x00\\x00\\x00\\x00\\x00\\x00\\x00\\x00\\x00\\x00\\x00\\x00\\x00\\x00\\x00\\x00\\x00\\x00\\x00\\x00\\x00\\x00\\x00\\x00\\x00\\x00\\x00\\x00\\x00\\x00\\x00\\x00\\x00\\x00\\x00\\x00\\x00\\x00\\x00\\x00\\x00\\x00\\x00\\x00\\x00\\x00\\x00\\x00\\x00\\x00\\x00\\x00\\x00\\x00\\x00\\x00\\x00\\x00\\x00\\x00\\x00\\x00\\x00\\x00\\x00\\x00\\x00\\x00\\x00\\x00\\x00\\x00\\x00\\x00\\x00\\x00\\x00\\x00\\x00\\x00\\x00\\x00\\x00\\x00\\x00\\x00\\x00\\x00\\x00\\x00\\x00\\x00\\x00\\x00\\x00\\x00\\x00\\x00\\x00\\x00\\x00\\x00\\x00\\x00\\x00\\x00\\x00\\x00\\x00\\x00\\x00\\x00\\x00\\x00\\x00\\x00\\x00\\x00\\x00\\x00\\x00\\x00\\x00\\x00\\x00\\x00\\x00\\x00\\x00\\x00\\x00\\x00\\x00\\x00\\x00\\x00\\x00\\x00\\x00\\x00\\x00\\x00\\x00\\x00\\x00\\x00\\x00\\x00\\x00\\x00\\x01\\x00\\x00\\x00\\x00\\x00\\x00\\x00\\x00\\x00\\x00\\x00\\xd0\\x00\\x00\\x00SMTJ\\x00\\x00\\x00\\x00\\x10\\x00\\xc0\\x00S\\x00e\\x00n\\x00d\\x00 \\x00T\\x00o\\x00 \\x00M\\x00i\\x00c\\x00r\\x00o\\x00s\\x00o\\x00f\\x00t\\x00 \\x00O\\x00n\\x00e\\x00N\\x00o\\x00t\\x00e\\x00 \\x002\\x000\\x001\\x000\\x00 \\x00D\\x00r\\x00i\\x00v\\x00e\\x00r\\x00\\x00\\x00RESDLL\\x00UniresDLL\\x00PaperSize\\x00LETTER\\x00Orientation\\x00PORTRAIT\\x00Resolution\\x00DPI600\\x00ColorMode\\x0024bpp\\x00\\x00\\x00\\x00\\x00\\x00\\x00\\x00\\x00\\x00\\x00\\x00\\x00\\x00\\x00\\x00\\x00\\x00\\x00\\x00\\x00\\x00\\x00\\x00\\x00\\x00\\x00\\x00'\n",
      "\tWin32_DevNamesW : b'\\x04\\x00*\\x00?\\x00\\x00\\x00S\\x00e\\x00n\\x00d\\x00 \\x00T\\x00o\\x00 \\x00M\\x00i\\x00c\\x00r\\x00o\\x00s\\x00o\\x00f\\x00t\\x00 \\x00O\\x00n\\x00e\\x00N\\x00o\\x00t\\x00e\\x00 \\x002\\x000\\x001\\x000\\x00 \\x00D\\x00r\\x00i\\x00v\\x00e\\x00r\\x00\\x00\\x00S\\x00e\\x00n\\x00d\\x00 \\x00T\\x00o\\x00 \\x00O\\x00n\\x00e\\x00N\\x00o\\x00t\\x00e\\x00 \\x002\\x000\\x001\\x000\\x00\\x00\\x00n\\x00u\\x00l\\x00:\\x00\\x00\\x00'\n",
      "SentinelList :\n",
      "Thumbnails :\n",
      "\t0 :\n",
      "\t\tImageIndex : 0\n",
      "\t\tSourceSize_Pixels : [669, 342]\n",
      "WindowPosition : [410, 8, 752, 677]\n"
     ]
    }
   ],
   "source": [
    "dataset.view_original_metadata()"
   ]
  },
  {
   "cell_type": "code",
   "execution_count": null,
   "metadata": {},
   "outputs": [],
   "source": []
  }
 ],
 "metadata": {
  "interpreter": {
   "hash": "96f604ed24f7db002aef76d6ad4085ae58b8dd9e86506047ff0cd41984b09c1a"
  },
  "kernelspec": {
   "display_name": "pyTEMlib",
   "language": "python",
   "name": "pytemlib"
  },
  "language_info": {
   "codemirror_mode": {
    "name": "ipython",
    "version": 3
   },
   "file_extension": ".py",
   "mimetype": "text/x-python",
   "name": "python",
   "nbconvert_exporter": "python",
   "pygments_lexer": "ipython3",
   "version": "3.11.7"
  },
  "toc": {
   "base_numbering": 1,
   "nav_menu": {},
   "number_sections": true,
   "sideBar": true,
   "skip_h1_title": false,
   "title_cell": "Table of Contents",
   "title_sidebar": "Contents",
   "toc_cell": false,
   "toc_position": {},
   "toc_section_display": true,
   "toc_window_display": false
  }
 },
 "nbformat": 4,
 "nbformat_minor": 4
}
